{
 "cells": [
  {
   "cell_type": "code",
   "execution_count": 30,
   "metadata": {},
   "outputs": [],
   "source": [
    "import pickle"
   ]
  },
  {
   "cell_type": "code",
   "execution_count": 31,
   "metadata": {},
   "outputs": [],
   "source": [
    "s1=\"crop_dc.pickle\""
   ]
  },
  {
   "cell_type": "code",
   "execution_count": 32,
   "metadata": {},
   "outputs": [],
   "source": [
    "out=pickle.load(open(s1,\"rb\"))"
   ]
  },
  {
   "cell_type": "code",
   "execution_count": 33,
   "metadata": {},
   "outputs": [
    {
     "name": "stdout",
     "output_type": "stream",
     "text": [
      "enter the strating month6\n",
      "enter the cultivation month18\n",
      "enter the min_temp23\n",
      "enter the max_temp27\n",
      "enter the rainfall_requriment345\n",
      "enter the humditiy45\n",
      "corn:1 \n",
      " cotton:2 \n",
      " millet:3 \n",
      " ragi:4 \n",
      " rice:5 \n",
      " sugarcane:6 \n",
      " wheat:7 \n",
      "enter the crops1\n",
      "irrigation type\n",
      " yes:1\n",
      " no:0\n",
      "enter the irrigation1\n",
      " Coimbatore:1 \n",
      " Dindigul:2 \n",
      " Madurai:3 \n",
      " Salem:4 \n",
      " Theni:5\n",
      "enter the district1\n",
      " a:1\n",
      " b:2 \n",
      " c:3\n",
      "enter the soil1\n",
      "enter the area234\n",
      "1299.2\n"
     ]
    }
   ],
   "source": [
    "a=int(input(\"enter the strating month\"))\n",
    "b=int(input(\"enter the cultivation month\"))\n",
    "c=int(input(\"enter the min_temp\"))\n",
    "d=int(input(\"enter the max_temp\"))\n",
    "e=int(input(\"enter the rainfall_requriment\"))\n",
    "f=int(input(\"enter the humditiy\"))\n",
    "print(\"corn:1 \\n cotton:2 \\n millet:3 \\n ragi:4 \\n rice:5 \\n sugarcane:6 \\n wheat:7 \")\n",
    "g=int(input(\"enter the crops\"))\n",
    "print(\"irrigation type\\n yes:1\\n no:0\")\n",
    "h=int(input(\"enter the irrigation\"))\n",
    "print(\" Coimbatore:1 \\n Dindigul:2 \\n Madurai:3 \\n Salem:4 \\n Theni:5\")\n",
    "i=int(input(\"enter the district\"))\n",
    "print(\" a:1\\n b:2 \\n c:3\")\n",
    "j=int(input(\"enter the soil\"))\n",
    "k=int(input(\"enter the area\"))\n",
    "result=out.predict([[a,b,c,d,e,f,g,h,i,j,k]])\n",
    "print(result[0])"
   ]
  },
  {
   "cell_type": "markdown",
   "metadata": {},
   "source": [
    "result"
   ]
  },
  {
   "cell_type": "code",
   "execution_count": 26,
   "metadata": {},
   "outputs": [
    {
     "data": {
      "text/plain": [
       "array([1.])"
      ]
     },
     "execution_count": 26,
     "metadata": {},
     "output_type": "execute_result"
    }
   ],
   "source": [
    "result"
   ]
  },
  {
   "cell_type": "code",
   "execution_count": null,
   "metadata": {},
   "outputs": [],
   "source": []
  }
 ],
 "metadata": {
  "kernelspec": {
   "display_name": "Python 3",
   "language": "python",
   "name": "python3"
  },
  "language_info": {
   "codemirror_mode": {
    "name": "ipython",
    "version": 3
   },
   "file_extension": ".py",
   "mimetype": "text/x-python",
   "name": "python",
   "nbconvert_exporter": "python",
   "pygments_lexer": "ipython3",
   "version": "3.7.4"
  }
 },
 "nbformat": 4,
 "nbformat_minor": 2
}
