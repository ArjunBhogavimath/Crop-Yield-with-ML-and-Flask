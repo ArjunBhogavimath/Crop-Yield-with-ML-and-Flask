{
 "cells": [
  {
   "cell_type": "code",
   "execution_count": 77,
   "metadata": {},
   "outputs": [
    {
     "name": "stdout",
     "output_type": "stream",
     "text": [
      "      Starting month  Cultivation Time  Min-Temp   Max-Temp   \\\n",
      "0                  6                 3         24         28   \n",
      "1                  6                 3         25         26   \n",
      "2                  6                 3         26         31   \n",
      "3                  6                 3         24         26   \n",
      "4                  6                 3         23         27   \n",
      "...              ...               ...        ...        ...   \n",
      "1147               6                 4         25         31   \n",
      "1148               6                 4         23         30   \n",
      "1149               6                 4         24         29   \n",
      "1150               6                 4         22         28   \n",
      "1151               6                 4         25         32   \n",
      "\n",
      "      Rainfall Requirement  Humidity       Crops  Irrigation        dis  Soil  \\\n",
      "0                      956          69      Rice           0  Ratnagiri     1   \n",
      "1                     1200          85      Rice           0  Ratnagiri     1   \n",
      "2                     1540          82      Rice           0  Ratnagiri     3   \n",
      "3                     1345          79      Rice           0  Ratnagiri     3   \n",
      "4                     1111          67      Rice           0  Ratnagiri     3   \n",
      "...                    ...         ...       ...         ...        ...   ...   \n",
      "1147                   774          75  Soyabean           1     Nagpur     2   \n",
      "1148                  1065          71  Soyabean           1     Nagpur     2   \n",
      "1149                  1179          66  Soyabean           1     Nagpur     2   \n",
      "1150                  1245          57  Soyabean           1     Nagpur     2   \n",
      "1151                   999          66  Soyabean           1     Nagpur     2   \n",
      "\n",
      "        area  production  \n",
      "0      1254.0       2000  \n",
      "1         2.0          1  \n",
      "2       102.0        321  \n",
      "3       176.0        641  \n",
      "4       720.0        165  \n",
      "...       ...        ...  \n",
      "1147     82.0         25  \n",
      "1148    304.0       6772  \n",
      "1149   1776.0       2366  \n",
      "1150  62049.0     170573  \n",
      "1151    442.0        214  \n",
      "\n",
      "[1152 rows x 12 columns]\n"
     ]
    },
    {
     "name": "stderr",
     "output_type": "stream",
     "text": [
      "C:\\Users\\admin\\Anaconda3\\lib\\site-packages\\ipykernel_launcher.py:10: FutureWarning: Sorting because non-concatenation axis is not aligned. A future version\n",
      "of pandas will change to not sort by default.\n",
      "\n",
      "To accept the future behavior, pass 'sort=False'.\n",
      "\n",
      "To retain the current behavior and silence the warning, pass 'sort=True'.\n",
      "\n",
      "  # Remove the CWD from sys.path while we load stuff.\n"
     ]
    }
   ],
   "source": [
    "import pandas as pd\n",
    "data=pd.read_csv(\"crop data.csv\")\n",
    "print(data)\n",
    "data[\"dis\"].value_counts()\n",
    "d={\"Nagpur\":\"Madurai\",\"Ratnagiri\":\"Salem\",\"Nanded\":\"Coimbatore\",\"Pune\":\"Dindigul\",\"Akola\":\"Theni\" }\n",
    "data[\"dis\"]=data[\"dis\"].map(d)\n",
    "data[\"dis\"].to_csv(\"district1.csv\",index=None,header=True)\n",
    "data1=pd.read_csv(\"district1.csv\")\n",
    "data1\n",
    "final=pd.concat([data,data1])\n",
    "data.to_csv(\"final_crop data.csv\",index=None,header=True)"
   ]
  },
  {
   "cell_type": "code",
   "execution_count": 83,
   "metadata": {},
   "outputs": [
    {
     "ename": "TypeError",
     "evalue": "'tuple' object does not support item assignment",
     "output_type": "error",
     "traceback": [
      "\u001b[1;31m---------------------------------------------------------------------------\u001b[0m",
      "\u001b[1;31mTypeError\u001b[0m                                 Traceback (most recent call last)",
      "\u001b[1;32m<ipython-input-83-8279a02c2e72>\u001b[0m in \u001b[0;36m<module>\u001b[1;34m\u001b[0m\n\u001b[0;32m      1\u001b[0m \u001b[0ma\u001b[0m\u001b[1;33m=\u001b[0m\u001b[1;33m(\u001b[0m\u001b[1;36m1\u001b[0m\u001b[1;33m,\u001b[0m\u001b[1;36m2\u001b[0m\u001b[1;33m,\u001b[0m\u001b[1;36m3\u001b[0m\u001b[1;33m)\u001b[0m\u001b[1;33m\u001b[0m\u001b[1;33m\u001b[0m\u001b[0m\n\u001b[1;32m----> 2\u001b[1;33m \u001b[0ma\u001b[0m\u001b[1;33m[\u001b[0m\u001b[1;36m0\u001b[0m\u001b[1;33m]\u001b[0m\u001b[1;33m=\u001b[0m\u001b[1;36m2\u001b[0m\u001b[1;33m\u001b[0m\u001b[1;33m\u001b[0m\u001b[0m\n\u001b[0m",
      "\u001b[1;31mTypeError\u001b[0m: 'tuple' object does not support item assignment"
     ]
    }
   ],
   "source": [
    "a=(1,2,3)\n",
    "a[0]=2\n"
   ]
  },
  {
   "cell_type": "code",
   "execution_count": null,
   "metadata": {},
   "outputs": [],
   "source": []
  }
 ],
 "metadata": {
  "kernelspec": {
   "display_name": "Python 3",
   "language": "python",
   "name": "python3"
  },
  "language_info": {
   "codemirror_mode": {
    "name": "ipython",
    "version": 3
   },
   "file_extension": ".py",
   "mimetype": "text/x-python",
   "name": "python",
   "nbconvert_exporter": "python",
   "pygments_lexer": "ipython3",
   "version": "3.7.4"
  }
 },
 "nbformat": 4,
 "nbformat_minor": 2
}
